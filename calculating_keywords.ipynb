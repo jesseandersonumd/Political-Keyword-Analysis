{
  "nbformat": 4,
  "nbformat_minor": 0,
  "metadata": {
    "colab": {
      "name": "calculating_keywords.ipynb",
      "provenance": [],
      "collapsed_sections": []
    },
    "kernelspec": {
      "name": "python3",
      "display_name": "Python 3"
    }
  },
  "cells": [
    {
      "cell_type": "code",
      "metadata": {
        "id": "9qnE2S1hPW7w"
      },
      "source": [
        "import pandas as pd\n",
        "import math\n",
        "import re\n",
        "from collections import OrderedDict\n",
        "import docx\n",
        "from stop_words import get_stop_words"
      ],
      "execution_count": 146,
      "outputs": []
    },
    {
      "cell_type": "code",
      "metadata": {
        "id": "0ZDhUkuePwvo"
      },
      "source": [
        "all_data = pd.read_csv('FAQs & Insights - FAQs.csv')\n",
        "df = pd.DataFrame(all_data)\n",
        "pd.set_option('display.max_colwidth', None)\n",
        "empty_list = []\n",
        "\n",
        "for element in all_data['Source']:\n",
        "  if element in empty_list or element == 'Source ':\n",
        "    continue\n",
        "  else:\n",
        "    try:\n",
        "      math.isnan(float(element))\n",
        "    except:\n",
        "      empty_list.append(element)\n",
        "    else:\n",
        "      continue"
      ],
      "execution_count": 151,
      "outputs": []
    },
    {
      "cell_type": "code",
      "metadata": {
        "id": "R7U_XIi3RgBk"
      },
      "source": [
        "def events(event, dataframe):\n",
        "  cleaned_list = []\n",
        "  for index in dataframe.index[dataframe['Source'] == event].tolist():\n",
        "    quest_clean = str(df.iloc[[index], [0]]).lstrip()\n",
        "    for r in ((\"Question\", \"\"), (\"Ask Justin a question\", \"\"), ('?',\"\"), ('.','')):\n",
        "      quest_clean = quest_clean.replace(*r)\n",
        "    new_dict = {event: quest_clean}\n",
        "    cleaned_list.append(new_dict[event])\n",
        "  return cleaned_list\n",
        "\n",
        "def stats(sentence_list):\n",
        "  frequent_words = []\n",
        "  word_list = get_stop_words('en')\n",
        "  for sentence in sentence_list:\n",
        "    for word in sentence.split():\n",
        "      word = word.lower()\n",
        "      if word in word_list:\n",
        "        continue\n",
        "      else:\n",
        "        frequent_words.append(word.lower())\n",
        "  frequency = {i : frequent_words.count(i) for i in frequent_words if frequent_words.count(i)>1}\n",
        "  return frequency\n",
        "\n",
        "mydoc = docx.Document()\n",
        "for event in empty_list:\n",
        "  mydoc.add_heading(f'Event is: {event}')\n",
        "  event_list = events(event, df)\n",
        "  counter = 0\n",
        "  while counter < len(event_list):\n",
        "    event_list[counter] = re.sub(\"\\d+\", \"\", event_list[counter]).lstrip().rstrip()\n",
        "    counter+=1\n",
        "  statistics = stats(event_list)\n",
        "  sorted_stats = OrderedDict(sorted(statistics.items(), key=lambda x: x[1]))\n",
        "  sorted_stats = list(sorted_stats.items())\n",
        "  mydoc.add_paragraph(f'Top: {sorted_stats[-1]}')\n",
        "  mydoc.add_paragraph(f'All: {sorted_stats}')\n",
        "  for element in event_list:\n",
        "    mydoc.add_paragraph(element)\n",
        "  mydoc.add_paragraph('\\n')\n",
        "\n",
        "mydoc.save(\"analysis.docx\")\n"
      ],
      "execution_count": 149,
      "outputs": []
    },
    {
      "cell_type": "code",
      "metadata": {
        "id": "IvJaoEpAoJr3"
      },
      "source": [
        ""
      ],
      "execution_count": 150,
      "outputs": []
    },
    {
      "cell_type": "code",
      "metadata": {
        "id": "R9aFrvj6melH"
      },
      "source": [
        ""
      ],
      "execution_count": 150,
      "outputs": []
    },
    {
      "cell_type": "code",
      "metadata": {
        "id": "EbOeIrMLdfDv"
      },
      "source": [
        "\n"
      ],
      "execution_count": 85,
      "outputs": []
    },
    {
      "cell_type": "code",
      "metadata": {
        "id": "90JIn-3kWnyj"
      },
      "source": [
        ""
      ],
      "execution_count": 151,
      "outputs": []
    }
  ]
}